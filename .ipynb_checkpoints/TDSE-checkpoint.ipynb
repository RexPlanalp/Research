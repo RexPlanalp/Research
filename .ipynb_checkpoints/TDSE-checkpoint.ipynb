{
 "cells": [
  {
   "cell_type": "code",
   "execution_count": 43,
   "id": "b92d1131",
   "metadata": {},
   "outputs": [],
   "source": [
    "from scipy.sparse import spdiags\n",
    "from scipy.sparse import kronsum\n",
    "from scipy.sparse.linalg import inv\n",
    "import numpy as np\n",
    "\n",
    "r = np.linspace(0.01,10,1000)\n",
    "\n",
    "\n",
    "def Construct_M1(r):\n",
    "    N = len(r)\n",
    "    d_0 = 4*np.ones(N)\n",
    "    d_0[0] += np.sqrt(3)-2\n",
    "    d_0[-1] += np.sqrt(3)-2\n",
    "    d_pm_1 = np.ones(N)\n",
    "    diagonals = np.array([d_0,d_pm_1,d_pm_1])\n",
    "    off_sets = [0,1,-1]\n",
    "    M1 = (1/6)*spdiags(diagonals,off_sets,N,N)\n",
    "    return M1.tocsc()\n",
    "def Construct_D1(r):\n",
    "    N = len(r)\n",
    "    h = r[1]-r[0]\n",
    "    d_0 = np.zeros(N)\n",
    "    d_0[0] = np.sqrt(3)-2\n",
    "    d_0[-1] = 2-np.sqrt(3)\n",
    "    d_m_1 = -1*np.ones(N)\n",
    "    d_p_1 = np.ones(N)\n",
    "    diagonals = np.array([d_m_1,d_p_1,d_0])\n",
    "    off_sets = [-1,1,0]\n",
    "    D1 = 1/(2*h)*spdiags(diagonals,off_sets,N,N)\n",
    "    return D1.tocsc()\n",
    "def Construct_Inverse_r(r):\n",
    "    N = len(r)\n",
    "    d_0 = 1/r\n",
    "    diagonals = np.array([d_0])\n",
    "    off_sets = [0]\n",
    "    Inverse_r = spdiags(diagonals,off_sets,N,N)\n",
    "    return Inverse_r.tocsc()\n",
    "def Construct_L_lm(l,m):\n",
    "    N = 2 \n",
    "    c_lm = np.sqrt(((l+1)**2 - m**2)/((2*l+1)*(2*l+3)))*np.ones(2)\n",
    "    d_m_1,d_p_1 = c_lm,c_lm\n",
    "    diagonals = np.array([d_m_1,d_p_1])\n",
    "    off_sets = [-1,1]\n",
    "    L_lm = spdiags(diagonals,off_sets,N,N)\n",
    "    return L_lm.tocsc()\n",
    "def Construct_T_lm(l,m):\n",
    "    N =2 \n",
    "    c_lm = np.sqrt(((l+1)**2 - m**2)/((2*l+1)*(2*l+3)))*np.ones(2)\n",
    "    d_m_1,d_p_1 = -c_lm,c_lm\n",
    "    diagonals = np.array([d_m_1,d_p_1])\n",
    "    off_sets = [-1,1]\n",
    "    T_lm = (l+1)*spdiags(diagonals,off_sets,N,N)\n",
    "    return T_lm.tocsc()\n",
    "def Construct_H_mixlm(M1,D1,L_lm):#MISSING\n",
    "    return kronsum(L_lm,inv(M1)*D1)\n",
    "def Construct_H_anglm(T_lm,Inverse_r):#MISSING\n",
    "    return kronsum(T_lm,Inverse_r)\n",
    "\n",
    "def Construct_R_lm(H_anglm,r):#MISSING\n",
    "    N = len(r)\n",
    "    I = sparse.identity(N)\n",
    "    term = I + (1/4)*H_anglm\n",
    "    return inv(term)*term\n",
    "    "
   ]
  },
  {
   "cell_type": "code",
   "execution_count": 12,
   "id": "fce100bc",
   "metadata": {},
   "outputs": [
    {
     "data": {
      "text/plain": [
       "array([[1, 0, 3, 0],\n",
       "       [1, 2, 0, 4],\n",
       "       [0, 2, 3, 0],\n",
       "       [0, 0, 3, 4]])"
      ]
     },
     "execution_count": 12,
     "metadata": {},
     "output_type": "execute_result"
    }
   ],
   "source": []
  },
  {
   "cell_type": "code",
   "execution_count": null,
   "id": "4154fffe",
   "metadata": {},
   "outputs": [],
   "source": []
  }
 ],
 "metadata": {
  "kernelspec": {
   "display_name": "Python 3 (ipykernel)",
   "language": "python",
   "name": "python3"
  },
  "language_info": {
   "codemirror_mode": {
    "name": "ipython",
    "version": 3
   },
   "file_extension": ".py",
   "mimetype": "text/x-python",
   "name": "python",
   "nbconvert_exporter": "python",
   "pygments_lexer": "ipython3",
   "version": "3.9.15"
  }
 },
 "nbformat": 4,
 "nbformat_minor": 5
}
