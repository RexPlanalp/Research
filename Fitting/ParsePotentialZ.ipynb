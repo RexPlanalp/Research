{
 "cells": [
  {
   "cell_type": "code",
   "execution_count": 71,
   "id": "67409b4c",
   "metadata": {},
   "outputs": [],
   "source": [
    "import os\n",
    "\n",
    "if os.path.isfile(\"vks.x=0,y=0\"):\n",
    "    os.system(\"mv vks.x=0,y=0 vks.txt\")\n",
    "else:\n",
    "    pass\n",
    "\n",
    "# Load the data from the text file into a NumPy array\n",
    "data = np.loadtxt('vks.txt')\n",
    "\n",
    "# Slice the array to remove the first five rows\n",
    "\n",
    "# Split the array into two separate arrays for each column\n",
    "xs = data[:, 0]\n",
    "Nx = len(xs)\n",
    "xs = xs[int((Nx-1)/2):]\n",
    "\n",
    "ys = data[:, 1]\n",
    "Ny = len(ys)\n",
    "ys = ys[int((Ny-1)/2):]\n",
    "\n",
    "data = np.array([xs,ys])\n",
    "np.save(\"SAE_Sample\",data)\n",
    "\n",
    "# Notes\n",
    "# This is designed only to read the potential along the z axis:\n",
    "# Learn how to take full 3D potential from octopus and produce an average"
   ]
  },
  {
   "cell_type": "code",
   "execution_count": 44,
   "id": "c38af6d8",
   "metadata": {},
   "outputs": [
    {
     "name": "stdout",
     "output_type": "stream",
     "text": [
      "range(0, 1)\n"
     ]
    }
   ],
   "source": []
  },
  {
   "cell_type": "code",
   "execution_count": null,
   "id": "4d3e6648",
   "metadata": {},
   "outputs": [],
   "source": []
  }
 ],
 "metadata": {
  "kernelspec": {
   "display_name": "Python 3 (ipykernel)",
   "language": "python",
   "name": "python3"
  },
  "language_info": {
   "codemirror_mode": {
    "name": "ipython",
    "version": 3
   },
   "file_extension": ".py",
   "mimetype": "text/x-python",
   "name": "python",
   "nbconvert_exporter": "python",
   "pygments_lexer": "ipython3",
   "version": "3.9.15"
  }
 },
 "nbformat": 4,
 "nbformat_minor": 5
}
