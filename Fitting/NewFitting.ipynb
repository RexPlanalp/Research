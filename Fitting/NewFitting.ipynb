{
 "cells": [
  {
   "cell_type": "code",
   "execution_count": 6,
   "id": "cb79753e",
   "metadata": {},
   "outputs": [],
   "source": [
    "import numpy as np\n",
    "from scipy.optimize import least_squares\n",
    "import matplotlib.pyplot as plt"
   ]
  },
  {
   "cell_type": "code",
   "execution_count": 7,
   "id": "e12608a2",
   "metadata": {},
   "outputs": [],
   "source": [
    "data = np.load(\"SAE_Sample.npy\")\n",
    "xs = data[0]\n",
    "ys = data[1]\n",
    "np.delete(xs,[0])\n",
    "np.delete(ys,[0]);"
   ]
  },
  {
   "cell_type": "code",
   "execution_count": 10,
   "id": "e8610067",
   "metadata": {},
   "outputs": [],
   "source": [
    "# For helium s = 1 \n",
    "s = 1 \n",
    "###########\n",
    "\n",
    "# First I define my fitting function\n",
    "def y(theta,x):\n",
    "    global s\n",
    "    coulomb = (-1/(x+0.01))\n",
    "    yukawa = (-np.exp(-theta[0]*x)/(x+0.01))\n",
    "    \n",
    "    inter = [theta[i+1]*np.exp(-theta[i+2]*x) for i in range(s)]\n",
    "    shell = 0\n",
    "    for term in inter:\n",
    "        shell += term\n",
    "        \n",
    "    return  coulomb+yukawa+shell\n",
    "\n",
    "# Next we define the function which finds the difference between the sample points and my fitting function\n",
    "def fun(theta):\n",
    "    return y(theta, xs) - ys"
   ]
  },
  {
   "cell_type": "code",
   "execution_count": 11,
   "id": "44b68a9b",
   "metadata": {},
   "outputs": [
    {
     "name": "stdout",
     "output_type": "stream",
     "text": [
      "[0.10228995 1.19886731 0.51031863]\n"
     ]
    }
   ],
   "source": [
    "# Now we initialize a guess for the fitting paramters \n",
    "theta0 = [0]*(s+2)\n",
    "result = least_squares(fun, theta0,loss = \"soft_l1\")\n",
    "tol = 1E-10\n",
    "def SAE(x):\n",
    "    return -1/(x+tol) - np.exp(-2.03929*x)/(x+tol) - 0.3953*np.exp(-6.1805*x)\n",
    "print(result.x)"
   ]
  },
  {
   "cell_type": "code",
   "execution_count": 13,
   "id": "09fdb822",
   "metadata": {},
   "outputs": [
    {
     "data": {
      "text/plain": [
       "(-10.0, 0.0)"
      ]
     },
     "execution_count": 13,
     "metadata": {},
     "output_type": "execute_result"
    },
    {
     "data": {
      "image/png": "[encoded data removed]",
      "text/plain": [
       "<Figure size 640x480 with 1 Axes>"
      ]
     },
     "metadata": {},
     "output_type": "display_data"
    }
   ],
   "source": [
    "x = np.linspace(0.1,9,1000)\n",
    "plt.plot(xs,ys)\n",
    "plt.plot(x,y(result.x,x))\n",
    "\n",
    "plt.ylim([-10,0])\n"
   ]
  },
  {
   "cell_type": "code",
   "execution_count": 61,
   "id": "eaab9fb0",
   "metadata": {},
   "outputs": [
    {
     "name": "stdout",
     "output_type": "stream",
     "text": [
      "0\n"
     ]
    }
   ],
   "source": []
  },
  {
   "cell_type": "code",
   "execution_count": null,
   "id": "ecd3aae4",
   "metadata": {},
   "outputs": [],
   "source": []
  }
 ],
 "metadata": {
  "kernelspec": {
   "display_name": "Python 3 (ipykernel)",
   "language": "python",
   "name": "python3"
  },
  "language_info": {
   "codemirror_mode": {
    "name": "ipython",
    "version": 3
   },
   "file_extension": ".py",
   "mimetype": "text/x-python",
   "name": "python",
   "nbconvert_exporter": "python",
   "pygments_lexer": "ipython3",
   "version": "3.9.15"
  }
 },
 "nbformat": 4,
 "nbformat_minor": 5
}
