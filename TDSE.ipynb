{
 "cells": [
  {
   "cell_type": "code",
   "execution_count": 1,
   "id": "176869eb",
   "metadata": {},
   "outputs": [
    {
     "ename": "IndentationError",
     "evalue": "expected an indented block (4238976027.py, line 86)",
     "output_type": "error",
     "traceback": [
      "\u001b[0;36m  Cell \u001b[0;32mIn[1], line 86\u001b[0;36m\u001b[0m\n\u001b[0;31m    def Construct_R_lm(H_anglm,r,t):#MISSING\u001b[0m\n\u001b[0m    ^\u001b[0m\n\u001b[0;31mIndentationError\u001b[0m\u001b[0;31m:\u001b[0m expected an indented block\n"
     ]
    }
   ],
   "source": [
    "from scipy.sparse import spdiags\n",
    "from scipy.sparse import kronsum\n",
    "from scipy.sparse.linalg import inv\n",
    "import numpy as np\n",
    "\n",
    "r = np.linspace(0.01,10,1000)\n",
    "t = np.linspace(-10,10,1000)\n",
    "\n",
    "def Pulse(t,I,w,N):\n",
    "    return np.sqrt(I)*np.sin(w*t/(2*N))**2 * np.cos(w(t))\n",
    "def Construct_M2(r,l,m):\n",
    "    N = len(r)\n",
    "    if l==0 and m==0:\n",
    "        h = r[1] - r[0]\n",
    "        delta = -(2/h**2)*(1-h/(12-10*h))\n",
    "        d_0 = 10*np.ones(N)\n",
    "        d_0[0] = -2*(1+h**2 * delta/12)\n",
    "        d_m_1,d_p_1 = np.ones(N)\n",
    "        diagonals = np.array([d_0,d_m_1,d_p_1])\n",
    "        off_sets = [0,1,-1]\n",
    "        M2 = -(1/6)*spdiags(diagonals,off_sets,N,N)\n",
    "        return M2.tocsc()\n",
    "        \n",
    "    else:\n",
    "        d_0 = 10*np.ones(N)\n",
    "        d_m_1,d_p_1 = np.ones(N)\n",
    "        diagonals = np.array([d_0,d_m_1,d_p_1])\n",
    "        off_sets = [0,1,-1]\n",
    "        M2 = -(1/6)*spdiags(diagonals,off_sets,N,N)\n",
    "        return M2.tocsc()\n",
    "    \n",
    "def Construct_M1(r):\n",
    "    N = len(r)\n",
    "    d_0 = 4*np.ones(N)\n",
    "    d_0[0] += np.sqrt(3)-2\n",
    "    d_0[-1] += np.sqrt(3)-2\n",
    "    d_pm_1 = np.ones(N)\n",
    "    diagonals = np.array([d_0,d_pm_1,d_pm_1])\n",
    "    off_sets = [0,1,-1]\n",
    "    M1 = (1/6)*spdiags(diagonals,off_sets,N,N)\n",
    "    return M1.tocsc()\n",
    "def Construct_D1(r):\n",
    "    N = len(r)\n",
    "    h = r[1]-r[0]\n",
    "    d_0 = np.zeros(N)\n",
    "    d_0[0] = np.sqrt(3)-2\n",
    "    d_0[-1] = 2-np.sqrt(3)\n",
    "    d_m_1 = -1*np.ones(N)\n",
    "    d_p_1 = np.ones(N)\n",
    "    diagonals = np.array([d_m_1,d_p_1,d_0])\n",
    "    off_sets = [-1,1,0]\n",
    "    D1 = 1/(2*h)*spdiags(diagonals,off_sets,N,N)\n",
    "    return D1.tocsc()\n",
    "def Construct_Inverse_r(r):\n",
    "    N = len(r)\n",
    "    d_0 = 1/r\n",
    "    diagonals = np.array([d_0])\n",
    "    off_sets = [0]\n",
    "    Inverse_r = spdiags(diagonals,off_sets,N,N)\n",
    "    return Inverse_r.tocsc()\n",
    "def Construct_L_lm(l,m):\n",
    "    N = 2 \n",
    "    c_lm = np.sqrt(((l+1)**2 - m**2)/((2*l+1)*(2*l+3)))*np.ones(2)\n",
    "    d_m_1,d_p_1 = c_lm,c_lm\n",
    "    diagonals = np.array([d_m_1,d_p_1])\n",
    "    off_sets = [-1,1]\n",
    "    L_lm = spdiags(diagonals,off_sets,N,N)\n",
    "    return L_lm.tocsc()\n",
    "def Construct_T_lm(l,m):\n",
    "    N =2 \n",
    "    c_lm = np.sqrt(((l+1)**2 - m**2)/((2*l+1)*(2*l+3)))*np.ones(2)\n",
    "    d_m_1,d_p_1 = -c_lm,c_lm\n",
    "    diagonals = np.array([d_m_1,d_p_1])\n",
    "    off_sets = [-1,1]\n",
    "    T_lm = (l+1)*spdiags(diagonals,off_sets,N,N)\n",
    "    return T_lm.tocsc()\n",
    "\n",
    "def Construct_H_mixlm(M1,D1,L_lm,pulse):#MISSING\n",
    "    return -1j*pulse*kronsum(L_lm,inv(M1)*D1)\n",
    "def Construct_H_anglm(T_lm,Inverse_r):#MISSING\n",
    "    return -1j*pulse*kronsum(T_lm,Inverse_r)\n",
    "def Construct_H_at(V):\n",
    "    N = 2 \n",
    "    I = sparse.identity(N)\n",
    "    \n",
    "    \n",
    "\n",
    "\n",
    "def Construct_R_lm(H_anglm,r,t):#MISSING\n",
    "    dt = t[1]-t[0]\n",
    "    N = len(r)\n",
    "    I = sparse.identity(N)\n",
    "    term = I + (1j*dt/4)*H_anglm\n",
    "    return inv(term)*term\n",
    "    "
   ]
  },
  {
   "cell_type": "code",
   "execution_count": 12,
   "id": "1a8d65b2",
   "metadata": {},
   "outputs": [
    {
     "data": {
      "text/plain": [
       "array([[1, 0, 3, 0],\n",
       "       [1, 2, 0, 4],\n",
       "       [0, 2, 3, 0],\n",
       "       [0, 0, 3, 4]])"
      ]
     },
     "execution_count": 12,
     "metadata": {},
     "output_type": "execute_result"
    }
   ],
   "source": []
  },
  {
   "cell_type": "code",
   "execution_count": null,
   "id": "87828d50",
   "metadata": {},
   "outputs": [],
   "source": []
  }
 ],
 "metadata": {
  "kernelspec": {
   "display_name": "Python 3 (ipykernel)",
   "language": "python",
   "name": "python3"
  },
  "language_info": {
   "codemirror_mode": {
    "name": "ipython",
    "version": 3
   },
   "file_extension": ".py",
   "mimetype": "text/x-python",
   "name": "python",
   "nbconvert_exporter": "python",
   "pygments_lexer": "ipython3",
   "version": "3.9.15"
  }
 },
 "nbformat": 4,
 "nbformat_minor": 5
}
